{
 "cells": [
  {
   "cell_type": "markdown",
   "metadata": {},
   "source": [
    "# Regular expressions to NFA /  DFA"
   ]
  },
  {
   "cell_type": "markdown",
   "metadata": {},
   "source": [
    "### First converting the infix expression to postfix"
   ]
  },
  {
   "cell_type": "code",
   "execution_count": 17,
   "metadata": {},
   "outputs": [],
   "source": [
    "import re"
   ]
  },
  {
   "cell_type": "code",
   "execution_count": 16,
   "metadata": {},
   "outputs": [],
   "source": [
    "# Python program to convert infix expression to postfix\n",
    " \n",
    "# Class to convert the expression\n",
    "class Conversion:\n",
    "     \n",
    "    # Constructor to initialize the class variables\n",
    "    def __init__(self, capacity):\n",
    "        self.top = -1\n",
    "        self.capacity = capacity\n",
    "        # This array is used a stack \n",
    "        self.array = []\n",
    "        # Precedence setting\n",
    "        self.output = []\n",
    "        self.precedence = {'+':1, '-':1, '*':2, '/':2, '^':3}\n",
    "     \n",
    "    # check if the stack is empty\n",
    "    def isEmpty(self):\n",
    "        return True if self.top == -1 else False\n",
    "     \n",
    "    # Return the value of the top of the stack\n",
    "    def peek(self):\n",
    "        return self.array[-1]\n",
    "     \n",
    "    # Pop the element from the stack\n",
    "    def pop(self):\n",
    "        if not self.isEmpty():\n",
    "            self.top -= 1\n",
    "            return self.array.pop()\n",
    "        else:\n",
    "            return \"$\"\n",
    "     \n",
    "    # Push the element to the stack\n",
    "    def push(self, op):\n",
    "        self.top += 1\n",
    "        self.array.append(op) \n",
    " \n",
    "    # A utility function to check is the given character\n",
    "    # is operand \n",
    "    def isOperand(self, ch):\n",
    "        return ch.isalpha()\n",
    " \n",
    "    # Check if the precedence of operator is strictly\n",
    "    # less than top of stack or not\n",
    "    def notGreater(self, i):\n",
    "        try:\n",
    "            a = self.precedence[i]\n",
    "            b = self.precedence[self.peek()]\n",
    "            return True if a  <= b else False\n",
    "        except KeyError: \n",
    "            return False\n",
    "             \n",
    "    # The main function that converts given infix expression\n",
    "    # to postfix expression\n",
    "    def infixToPostfix(self, exp):\n",
    "         \n",
    "        # Iterate over the expression for conversion\n",
    "        for i in exp:\n",
    "            # If the character is an operand, \n",
    "            # add it to output\n",
    "            if self.isOperand(i):\n",
    "                self.output.append(i)\n",
    "             \n",
    "            # If the character is an '(', push it to stack\n",
    "            elif i  == '(':\n",
    "                self.push(i)\n",
    " \n",
    "            # If the scanned character is an ')', pop and \n",
    "            # output from the stack until and '(' is found\n",
    "            elif i == ')':\n",
    "                while( (not self.isEmpty()) and self.peek() != '('):\n",
    "                    a = self.pop()\n",
    "                    self.output.append(a)\n",
    "                if (not self.isEmpty() and self.peek() != '('):\n",
    "                    return -1\n",
    "                else:\n",
    "                    self.pop()\n",
    " \n",
    "            # An operator is encountered\n",
    "            else:\n",
    "                while(not self.isEmpty() and self.notGreater(i)):\n",
    "                    self.output.append(self.pop())\n",
    "                self.push(i)\n",
    " \n",
    "        # pop all the operator from the stack\n",
    "        while not self.isEmpty():\n",
    "            self.output.append(self.pop())\n",
    " \n",
    "        print (\"\".join(self.output))\n",
    " "
   ]
  },
  {
   "cell_type": "code",
   "execution_count": 24,
   "metadata": {},
   "outputs": [
    {
     "name": "stdout",
     "output_type": "stream",
     "text": [
      "abc*+\n"
     ]
    }
   ],
   "source": [
    "# Driver program to test above function\n",
    "exp = \"a+b*c\"\n",
    "obj = Conversion(len(exp))\n",
    "obj.infixToPostfix(exp)"
   ]
  },
  {
   "cell_type": "markdown",
   "metadata": {},
   "source": [
    "### Now converting that postfix into NFA"
   ]
  },
  {
   "cell_type": "code",
   "execution_count": 25,
   "metadata": {},
   "outputs": [
    {
     "name": "stdout",
     "output_type": "stream",
     "text": [
      "['b', 'e', 'c', 'a']\n",
      "\n",
      "\n",
      "\n",
      "\n",
      "[{'a': 1}, {}, {'b': 3}, {'e': 9}, {'c': 5}, {'e': (4, 7)}, {'e': (4, 7)}, {'e': 9}, {'e': (2, 6)}, {}]\n"
     ]
    }
   ],
   "source": [
    "regex=''.join(\"abc*+\")\n",
    "\n",
    "keys=list(set(re.sub('[^A-Za-z0-9]+', '', regex)+'e'))\n",
    "\n",
    "s=[];stack=[];start=0;end=1\n",
    "\n",
    "counter=-1;c1=0;c2=0\n",
    "\n",
    "for i in regex:\n",
    "    if i in keys:\n",
    "        counter=counter+1;c1=counter;counter=counter+1;c2=counter;\n",
    "        s.append({});s.append({})\n",
    "        stack.append([c1,c2])\n",
    "        s[c1][i]=c2\n",
    "    elif i=='*':\n",
    "        r1,r2=stack.pop()\n",
    "        counter=counter+1;c1=counter;counter=counter+1;c2=counter;\n",
    "        s.append({});s.append({})\n",
    "        stack.append([c1,c2])\n",
    "        s[r2]['e']=(r1,c2);s[c1]['e']=(r1,c2)\n",
    "        if start==r1:start=c1 \n",
    "        if end==r2:end=c2 \n",
    "    elif i=='.':\n",
    "        r11,r12=stack.pop()\n",
    "        r21,r22=stack.pop()\n",
    "        stack.append([r21,r12])\n",
    "        s[r22]['e']=r11\n",
    "        if start==r11:start=r21 \n",
    "        if end==r22:end=r12 \n",
    "    else:\n",
    "        counter=counter+1;c1=counter;counter=counter+1;c2=counter;\n",
    "        s.append({});s.append({})\n",
    "        r11,r12=stack.pop()\n",
    "        r21,r22=stack.pop()\n",
    "        stack.append([c1,c2])\n",
    "        s[c1]['e']=(r21,r11); s[r12]['e']=c2; s[r22]['e']=c2\n",
    "        if start==r11 or start==r21:start=c1 \n",
    "        if end==r22 or end==r12:end=c2\n",
    "\n",
    "print(keys)\n",
    "print(\"\\n\\n\\n\")\n",
    "print(s)"
   ]
  },
  {
   "cell_type": "code",
   "execution_count": null,
   "metadata": {},
   "outputs": [],
   "source": []
  }
 ],
 "metadata": {
  "kernelspec": {
   "display_name": "Python 3",
   "language": "python",
   "name": "python3"
  },
  "language_info": {
   "codemirror_mode": {
    "name": "ipython",
    "version": 3
   },
   "file_extension": ".py",
   "mimetype": "text/x-python",
   "name": "python",
   "nbconvert_exporter": "python",
   "pygments_lexer": "ipython3",
   "version": "3.7.1"
  }
 },
 "nbformat": 4,
 "nbformat_minor": 2
}
